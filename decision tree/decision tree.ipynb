{
 "cells": [
  {
   "cell_type": "code",
   "execution_count": 1,
   "metadata": {},
   "outputs": [],
   "source": [
    "import math\n",
    "import numpy as np\n",
    "import matplotlib.pyplot as plt"
   ]
  },
  {
   "cell_type": "code",
   "execution_count": 2,
   "metadata": {},
   "outputs": [
    {
     "name": "stdout",
     "output_type": "stream",
     "text": [
      "Exercise\n"
     ]
    }
   ],
   "source": [
    "# Q1\n",
    "\n",
    "# decision tree 1\n",
    "\n",
    "E_parent = -1 * (0.2 * math.log(0.2, 2) + 0.8 * math.log(0.8, 2))\n",
    "\n",
    "# splitting on \"Exercise\" attribute\n",
    "\n",
    "E_child_Daily = 0\n",
    "E_child_Weekly = 0\n",
    "E_child_Rarely = 0\n",
    "IG_Exercise = E_parent - (E_child_Daily * (1/5) + E_child_Weekly * (2/5) + E_child_Rarely * (2/5))\n",
    "\n",
    "# splitting on \"Family\" attribute\n",
    "\n",
    "E_child_Yes = -1 * ((1/3) * math.log(1/3, 2) + (2/3) * math.log(2/3, 2))\n",
    "E_child_No = 0\n",
    "IG_Family = E_parent - (E_child_Yes * (3/5) + E_child_No * (2/5))\n",
    "\n",
    "print(\"Exercise\" if IG_Exercise > IG_Family else print(\"Family\"))"
   ]
  },
  {
   "cell_type": "code",
   "execution_count": 3,
   "metadata": {},
   "outputs": [],
   "source": [
    "dt1 = lambda x: lambda y: \"low\" if x==\"daily\" else \"high\""
   ]
  },
  {
   "cell_type": "code",
   "execution_count": 4,
   "metadata": {},
   "outputs": [
    {
     "name": "stdout",
     "output_type": "stream",
     "text": [
      "Smoker\n"
     ]
    }
   ],
   "source": [
    "# decision tree 2\n",
    "\n",
    "E_parent = -1 * (0.2 * math.log(0.2, 2) + 0.8 * math.log(0.8, 2))\n",
    "\n",
    "# splitting on \"Smoker\" attribute\n",
    "\n",
    "E_child_False = 0\n",
    "E_child_True = 0\n",
    "IG_Smoker = E_parent - (E_child_False * (1/5) + E_child_True * (4/5))\n",
    "\n",
    "# splitting on \"Obese\" attribute\n",
    "\n",
    "E_child_False = -1 * ((1/3) * math.log(1/3, 2) + (2/3) * math.log(2/3, 2))\n",
    "E_child_True = 0\n",
    "IG_Obese = E_parent - (E_child_Yes * (3/5) + E_child_No * (2/5))\n",
    "\n",
    "print(\"Smoker\" if IG_Smoker > IG_Obese else \"Obese\")"
   ]
  },
  {
   "cell_type": "code",
   "execution_count": 5,
   "metadata": {},
   "outputs": [],
   "source": [
    "dt2 = lambda x: lambda y: \"high\" if x==\"true\" else \"low\""
   ]
  },
  {
   "cell_type": "code",
   "execution_count": 6,
   "metadata": {},
   "outputs": [
    {
     "name": "stdout",
     "output_type": "stream",
     "text": [
      "Obese\n"
     ]
    }
   ],
   "source": [
    "# decision tree 3\n",
    "E_parent = -1 * (0.4 * math.log(0.4, 2) + 0.6 * math.log(0.6, 2))\n",
    "\n",
    "# splitting on \"Family\" attribute\n",
    "\n",
    "E_child_Yes = -1 * ((3/4) * math.log(3/4, 2) + (1/4) * math.log(1/4, 2))\n",
    "E_child_No = 0\n",
    "IG_Family = E_parent - (E_child_Yes * (4/5) + E_child_No * (1/5))\n",
    "\n",
    "# splitting on \"Obese\" attribute\n",
    "\n",
    "E_child_False = 0\n",
    "E_child_True = 0\n",
    "IG_Obese = E_parent - (E_child_Yes * (3/5) + E_child_No * (2/5))\n",
    "\n",
    "print(\"Family\" if IG_Family > IG_Obese else \"Obese\")"
   ]
  },
  {
   "cell_type": "code",
   "execution_count": 7,
   "metadata": {},
   "outputs": [],
   "source": [
    "dt3 = lambda x: lambda y: \"high\" if y==\"true\" else \"low\""
   ]
  },
  {
   "cell_type": "code",
   "execution_count": 9,
   "metadata": {},
   "outputs": [
    {
     "name": "stdout",
     "output_type": "stream",
     "text": [
      "Risk is high\n"
     ]
    }
   ],
   "source": [
    "Exercise = \"rarely\" \n",
    "Smoker = \"false\"\n",
    "Obese = \"true\"\n",
    "Family = \"yes\"\n",
    "\n",
    "op1 = (dt1(Exercise)(Family) == \"high\")\n",
    "op2 = (dt2(Smoker)(Obese) == \"high\")\n",
    "op3 = (dt3(Family)(Obese) == \"high\")\n",
    "\n",
    "risk = \"high\" if (op1 + op2 + op3)/3 >= 0.5 else \"low\"\n",
    "print(\"Risk is\", risk)"
   ]
  }
 ],
 "metadata": {
  "kernelspec": {
   "display_name": "Python 3",
   "language": "python",
   "name": "python3"
  },
  "language_info": {
   "codemirror_mode": {
    "name": "ipython",
    "version": 3
   },
   "file_extension": ".py",
   "mimetype": "text/x-python",
   "name": "python",
   "nbconvert_exporter": "python",
   "pygments_lexer": "ipython3",
   "version": "3.6.8"
  }
 },
 "nbformat": 4,
 "nbformat_minor": 2
}
